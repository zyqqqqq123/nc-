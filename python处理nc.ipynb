{
 "cells": [
  {
   "cell_type": "markdown",
   "metadata": {},
   "source": [
    "1.python读取nc数据时要注意单位。例如ISIMIP的数据单位为kg/m2/s，在时间尺度上不能直接求和\n",
    "2.\t将nc数据转为array处理时，如果array存在大量nan值时，分位数的计算会出现问题，应先使用as_array\n",
    "3.\t写入nc文件值注意nc文件无法储存nan值，需要将其设置为1e+20。此外，判断是否为nan不能用==，要用isnan\n"
   ]
  },
  {
   "cell_type": "code",
   "execution_count": 1,
   "metadata": {},
   "outputs": [
    {
     "name": "stdout",
     "output_type": "stream",
     "text": [
      "D:\\anaconda\\python.exe\n"
     ]
    }
   ],
   "source": [
    "import sys\n",
    "print(sys.executable)\n"
   ]
  },
  {
   "cell_type": "code",
   "execution_count": null,
   "metadata": {
    "collapsed": true
   },
   "outputs": [],
   "source": [
    "!conda info --envs"
   ]
  },
  {
   "cell_type": "markdown",
   "metadata": {
    "collapsed": true
   },
   "source": [
    "这是一段用来读nc，并且查看它的基本信息的代码"
   ]
  },
  {
   "cell_type": "code",
   "execution_count": null,
   "metadata": {
    "collapsed": true
   },
   "outputs": [],
   "source": [
    "import netCDF4 as nc\n",
    "import matplotlib.pyplot as plt\n",
    "from osgeo import gdal, osr, ogr\n",
    "\n",
    "os.environ['PROJ_LIB'] = r'C:\\Users\\asus\\Anaconda3\\envs\\gdal\\Library\\share\\proj'\n",
    "os.environ['GDAL_DATA'] = r'C:\\Users\\asus\\Anaconda3\\envs\\gdal\\Library\\share'\n",
    "\n",
    "file_path = data_path\n",
    "ds = nc.Dataset(file_path)\n",
    "print(\"NetCDF file details:\")\n",
    "print(f\"File format: {ds.file_format}\")\n",
    "print(\"Dimensions:\")\n",
    "for dim in ds.dimensions.values():\n",
    "    print(dim)\n",
    "print(\"Variables:\")\n",
    "for var in ds.variables.values():\n",
    "    print(var)\n",
    "\n",
    "ds.close()"
   ]
  },
  {
   "cell_type": "markdown",
   "metadata": {},
   "source": [
    "这是一段用来写nc的代码，需要一个nc模板"
   ]
  },
  {
   "cell_type": "code",
   "execution_count": null,
   "metadata": {
    "collapsed": true
   },
   "outputs": [],
   "source": [
    "def write_nc(origin_path, input_path, output_path):\n",
    "    nf_origin = nc.Dataset(origin_path) #这个用来后续保存新文件的时候提供数据模板\n",
    "    nf = np.array(nc.Dataset(input_path).variables['这是你的变量，从前面的读nc基本信息中获取'][:])\n",
    "    model_name = re.split('_|\\.',os.path.basename(input_path))[0]\n",
    "\n",
    "    output_path = output_path\n",
    "    new_NC = nc.Dataset(output_path, 'w', format='NETCDF4')\n",
    "    new_NC.createDimension('time', 12) #这个你得自己看\n",
    "    new_NC.createDimension('lat', 360) #这个你得自己看\n",
    "    new_NC.createDimension('lon', 720) #这个你得自己看\n",
    "    new_NC.createDimension('qtot', 12 * 360 * 720) #这个你得自己看\n",
    "    new_NC.createVariable('time', 'u4', (\"time\"))\n",
    "    new_NC.createVariable('lat', 'f', (\"lat\"))\n",
    "    new_NC.createVariable('lon', 'f', (\"lon\"))\n",
    "    new_NC.createVariable('qtot', 'f', (\"time\", \"lat\", \"lon\")) #这个你得自己看\n",
    "    # 向变量中填充数据\n",
    "    new_NC.variables['lat'][:] = nf_origin.variables['lat'][:]\n",
    "    new_NC.variables['lon'][:] = nf_origin.variables['lon'][:]\n",
    "    new_NC.variables['qtot'][:] = nf\n",
    "\n",
    "    # 最后记得关闭文件\n",
    "    new_NC.close()\n",
    "    \n",
    "def main():\n",
    "    write_nc(origin_path, input_path, output_path)\n",
    "\n",
    "main()"
   ]
  },
  {
   "cell_type": "markdown",
   "metadata": {},
   "source": [
    "这个是用来画一画nc的代码"
   ]
  },
  {
   "cell_type": "code",
   "execution_count": null,
   "metadata": {
    "collapsed": true
   },
   "outputs": [],
   "source": [
    "\n",
    "def plot_nc(data_path):\n",
    "    file_path = data_path\n",
    "    ds = nc.Dataset(file_path)\n",
    "    data_show = ds.variables['qtot'][0]#这个你得自己看\n",
    "\n",
    "    data_show = np.squeeze(data_show)\n",
    "    data_show[data_show == 1e+20] = np.nan#这个你得自己看\n",
    "\n",
    "\n",
    "\n",
    "    # Extract latitude and longitude data\n",
    "    lat = ds.variables['lat'][:]\n",
    "    lon = ds.variables['lon'][:]\n",
    "    extent = [lon.min(), lon.max(), lat.min(), lat.max()]\n",
    "\n",
    "    # Normalize the color scale using a suitable maximum value\n",
    "    max_val = np.nanpercentile(data_show, 99)  # 99th percentile to exclude outliers\n",
    "    norm = colors.Normalize(vmin=0, vmax=max_val)\n",
    "\n",
    "    # Plotting the domestic water withdrawal\n",
    "    plt.figure(figsize=(12, 6))\n",
    "    img = plt.imshow(data_show, cmap='viridis', norm=norm, extent=extent, aspect='auto', origin='lower')\n",
    "    cbar = plt.colorbar(img, label='Total monthly runoff (m/month)')\n",
    "    plt.title('Total monthly runoff Distribution')\n",
    "    plt.xlabel('Longitude (degrees east)')\n",
    "    plt.ylabel('Latitude (degrees north)')\n",
    "\n",
    "    plt.show()\n",
    "    \n",
    "def main():\n",
    "    plot_nc(data_path)\n",
    "\n",
    "main()"
   ]
  },
  {
   "cell_type": "code",
   "execution_count": null,
   "metadata": {
    "collapsed": true
   },
   "outputs": [],
   "source": [
    "这个是用来nc转tiff的代码"
   ]
  },
  {
   "cell_type": "code",
   "execution_count": null,
   "metadata": {
    "collapsed": true
   },
   "outputs": [],
   "source": [
    "def nc2tif(data, Output_folder):\n",
    "    tmp_data = nc.Dataset(data) \n",
    "    Lat_data = tmp_data.variables['lat'][:]\n",
    "    Lon_data = tmp_data.variables['lon'][:]\n",
    "    \n",
    "    pre_data = tmp_data.variables['ind'][:] #这个你得自己看\n",
    "    tmp_arr = np.asarray(tmp_data.variables['ind']) #这个你得自己看\n",
    "\n",
    "    # 影像的左上角&右下角坐标\n",
    "    Lonmin, Latmax, Lonmax, Latmin = [Lon_data.min(), Lat_data.max(), Lon_data.max(), Lat_data.min()]\n",
    "    print(Lonmin, Latmax, Lonmax, Latmin)\n",
    "    # 分辨率计算\n",
    "    Num_lat = len(Lat_data)\n",
    "    Num_lon = len(Lon_data)\n",
    "    Lat_res = (Latmax - Latmin) / (float(Num_lat) - 1)\n",
    "    Lon_res = (Lonmax - Lonmin) / (float(Num_lon) - 1)\n",
    "\n",
    "    driver = gdal.GetDriverByName('GTiff')\n",
    "    out_tif_name = Output_folder + '\\\\' + data.split('\\\\')[-1].split('.')[0] + '.tif' #这个你得自己看\n",
    "    out_tif = driver.Create(out_tif_name, Num_lon, Num_lat, 1, gdal.GDT_Float32)\n",
    "    # 设置影像的显示范围\n",
    "    # Lat_re前需要添加负号\n",
    "    #这里的geotransform中第一个参数改成你的数据的左上角x坐标，第四个参数改成你的数据的左上角y坐标\n",
    "    geotransform = (-179.75, Lon_res, 0.0, 89.75, 0.0, -Lat_res) #这个你得自己看\n",
    "    out_tif.SetGeoTransform(geotransform)\n",
    "    # 定义投影\n",
    "    prj = osr.SpatialReference()\n",
    "    prj.ImportFromEPSG(4326)  # 这里用的是WGS1984\n",
    "    out_tif.SetProjection(prj.ExportToWkt())\n",
    "    # 数据导出\n",
    "    out_tif.GetRasterBand(1).WriteArray(np.squeeze(tmp_arr))  # 将数据写入内存，此时没有写入到硬盘\n",
    "    out_tif.FlushCache()  # 将数据写入到硬盘\n",
    "    out_tif = None  # 关闭tif文件\n",
    "\n",
    "\n",
    "\n",
    "def main():\n",
    "    \n",
    "    nc2tif(input_path, output_path)\n",
    "\n",
    "\n",
    "main()"
   ]
  },
  {
   "cell_type": "markdown",
   "metadata": {},
   "source": [
    "这是一个读取一个文件夹下所有文件的代码，注意，这里是按照储存顺序（00，01，02），而不是数字顺序"
   ]
  },
  {
   "cell_type": "code",
   "execution_count": null,
   "metadata": {
    "collapsed": true
   },
   "outputs": [],
   "source": [
    "file = r'E:\\PCR_download\\ISIMIP\\airrww\\ISIMIP2b'\n",
    "all_path = []\n",
    "for root,dirs,files in os.walk(file):\n",
    "    for file in files:\n",
    "        path = os.path.join(root,file)\n",
    "        all_path.append(path)"
   ]
  },
  {
   "cell_type": "markdown",
   "metadata": {},
   "source": [
    "这是一个按照某个给定的栅格，重采样另一个栅格的代码"
   ]
  },
  {
   "cell_type": "code",
   "execution_count": null,
   "metadata": {
    "collapsed": true
   },
   "outputs": [],
   "source": [
    "def resample(reference_file, original_file, output_path)    \n",
    "    reference_data = rioxarray.open_rasterio(reference_file)\n",
    "    if reference_data.rio.crs is None:\n",
    "        print(\"Reference data is missing CRS.\")\n",
    "        # 设置CRS，这里以WGS 84（EPSG:4326）为例\n",
    "        reference_data.rio.write_crs(\"EPSG:4326\", inplace=True)\n",
    "        \n",
    "        output_path = output_path\n",
    "        original_data = rioxarray.open_rasterio(original_file)\n",
    "        # 检查是否有CRS\n",
    "        if original_data.rio.crs is None:\n",
    "            print(\"Original data is missing CRS.\")\n",
    "            # 设置CRS，这里以WGS 84（EPSG:4326）为例\n",
    "            original_data.rio.write_crs(\"EPSG:4326\", inplace=True)\n",
    "        resampled_data = original_data.rio.reproject_match(reference_data)\n",
    "        resampled_data.rio.to_raster(output_path)"
   ]
  },
  {
   "cell_type": "markdown",
   "metadata": {},
   "source": [
    "这是一个用来从shp文件中投影、提取面积和大于70%的地区的代码"
   ]
  },
  {
   "cell_type": "code",
   "execution_count": null,
   "metadata": {
    "collapsed": true
   },
   "outputs": [],
   "source": [
    "import rasterio.mask\n",
    "import pandas as pd\n",
    "from rasterio.warp import calculate_default_transform, reproject, Resampling\n",
    "from pyproj import Proj, Transformer\n",
    "from shapely.geometry import Polygon, MultiPolygon\n",
    "from rasterio.features import rasterize\n",
    "from rasterio.transform import Affine\n",
    "\n",
    "import rasterio\n",
    "import numpy as np\n",
    "\n",
    "from rasterio.mask import mask\n",
    "\n",
    "#\n",
    "# 加载Shapefile\n",
    "gdf = gpd.read_file(r'E:\\PCR_download\\country_border\\gadm_level1_data.shp')\n",
    "\n",
    "# 定义转换器 - 从WGS 84到Mollweide投影\n",
    "transformer = Transformer.from_proj(\n",
    "    'epsg:4326',  # 源坐标系统 WGS 84\n",
    "    '+proj=moll +lon_0=0 +datum=WGS84',  # 目标坐标系统 Mollweide\n",
    "    always_xy=True)\n",
    "\n",
    "# 计算球面面积\n",
    "def calculate_spherical_area(geom):\n",
    "    area = 0\n",
    "    if geom.is_empty:\n",
    "        return area\n",
    "    if isinstance(geom, MultiPolygon):\n",
    "        # 如果是MultiPolygon，处理每个单独的Polygon\n",
    "        for poly in geom.geoms:\n",
    "            x, y = poly.exterior.coords.xy\n",
    "            x2, y2 = transformer.transform(x, y)\n",
    "            new_geom = Polygon(zip(x2, y2))\n",
    "            area += new_geom.area\n",
    "    else:\n",
    "        # 处理单个Polygon\n",
    "        x, y = geom.exterior.coords.xy\n",
    "        x2, y2 = transformer.transform(x, y)\n",
    "        new_geom = Polygon(zip(x2, y2))\n",
    "        area = new_geom.area\n",
    "    return area\n",
    "\n",
    "gdf['spherical_area'] = gdf['geometry'].apply(calculate_spherical_area)\n",
    "\n",
    "# 计算总面积和80%的面积阈值\n",
    "total_area = gdf['spherical_area'].sum()\n",
    "area_threshold = total_area * 0.7\n",
    "\n",
    "# 初始化一个空的GeoDataFrame和累积面积变量\n",
    "selected_countries = gpd.GeoDataFrame(columns=gdf.columns, crs=gdf.crs)\n",
    "accumulated_area = 0\n",
    "\n",
    "# 按面积从大到小排序并选择国家\n",
    "for index, country in gdf.sort_values(by='spherical_area', ascending=False).iterrows():\n",
    "    if accumulated_area < area_threshold:\n",
    "        selected_countries = pd.concat([selected_countries, gdf[gdf.index == index]], ignore_index=True)\n",
    "        accumulated_area += country['spherical_area']\n",
    "    else:\n",
    "        break\n",
    "\n",
    "# 将选定国家的数据转换回EPSG:4326\n",
    "selected_countries = selected_countries.to_crs(epsg=4326)\n",
    "\n",
    "# 保存新的Shapefile\n",
    "selected_countries.to_file(r\"E:\\PCR_download\\country_border\\top_70_percent_countries.shp\", driver='ESRI Shapefile')\n",
    "print(\"已保存选定国家的Shapefile，包含面积之和超过全球总面积70%的国家。\")"
   ]
  },
  {
   "cell_type": "markdown",
   "metadata": {},
   "source": [
    "这是一个从shp文件中删除某个属性的对象，并重新存储的代码"
   ]
  },
  {
   "cell_type": "code",
   "execution_count": null,
   "metadata": {
    "collapsed": true
   },
   "outputs": [],
   "source": [
    "# 加载已经存在的Shapefile\n",
    "gdf = gpd.read_file(r\"E:\\PCR_download\\country_border\\top_70_percent_countries.shp\")\n",
    "\n",
    "# 删除南极洲的记录，其GID_0为'ATA'\n",
    "gdf_filtered = gdf[gdf['GID_0'] != 'ATA']\n",
    "\n",
    "# 保存更新后的Shapefile\n",
    "gdf_filtered.to_file(r\"E:\\PCR_download\\country_border\\filter_top_70_percent_countries.shp\", driver='ESRI Shapefile')\n",
    "print(\"已保存更新后的Shapefile，已从数据中删除南极洲。\")"
   ]
  },
  {
   "cell_type": "markdown",
   "metadata": {},
   "source": [
    "这是一个用来上下翻转栅格数据的代码"
   ]
  },
  {
   "cell_type": "code",
   "execution_count": null,
   "metadata": {
    "collapsed": true
   },
   "outputs": [],
   "source": [
    "from osgeo import gdal\n",
    "import os\n",
    "import numpy as np\n",
    "\n",
    "os.environ['PROJ_LIB'] = r'C:\\Users\\asus\\Anaconda3\\envs\\gdal\\Library\\share\\proj'\n",
    "os.environ['GDAL_DATA'] = r'C:\\Users\\asus\\Anaconda3\\envs\\gdal\\Library\\share'\n",
    "\n",
    "\n",
    "\n",
    "def flip_rasters(input_folder, output_folder):\n",
    "    # 确保输出文件夹存在\n",
    "    if not os.path.exists(output_folder):\n",
    "        os.makedirs(output_folder)\n",
    "\n",
    "    # 遍历文件夹中的所有文件\n",
    "    for filename in os.listdir(input_folder):\n",
    "        if filename.endswith(\".tif\"):  # 假设文件是TIFF格式\n",
    "            input_path = os.path.join(input_folder, filename)\n",
    "            output_path = os.path.join(output_folder, filename)\n",
    "\n",
    "            # 打开原始栅格文件\n",
    "            ds = gdal.Open(input_path)\n",
    "            band = ds.GetRasterBand(1)\n",
    "            nodata = band.GetNoDataValue()\n",
    "\n",
    "            # 读取数据\n",
    "            data = band.ReadAsArray()\n",
    "\n",
    "            # 翻转数据\n",
    "            flipped_data = np.flipud(data)\n",
    "\n",
    "            # 创建输出栅格文件\n",
    "            driver = gdal.GetDriverByName('GTiff')\n",
    "            out_ds = driver.Create(output_path, ds.RasterXSize, ds.RasterYSize, 1, band.DataType)\n",
    "            out_band = out_ds.GetRasterBand(1)\n",
    "\n",
    "            # 写入翻转后的数据\n",
    "            out_band.WriteArray(flipped_data)\n",
    "\n",
    "            # 设置无数据值\n",
    "            if nodata is not None:\n",
    "                out_band.SetNoDataValue(nodata)\n",
    "\n",
    "            # 设置地理变换和投影信息\n",
    "            out_ds.SetGeoTransform(ds.GetGeoTransform())\n",
    "            out_ds.SetProjection(ds.GetProjection())\n",
    "\n",
    "            # 清理\n",
    "            out_band.FlushCache()\n",
    "            out_ds = None\n",
    "            ds = None\n",
    "\n",
    "# 使用示例\n",
    "input_folder = r'E:\\PCR_download\\Huang\\ind_month'\n",
    "output_folder = r'E:\\PCR_download\\Huang\\ind_month_flipped'\n",
    "flip_rasters(input_folder, output_folder)"
   ]
  }
 ],
 "metadata": {
  "kernelspec": {
   "display_name": "Python 3",
   "language": "python",
   "name": "python3"
  },
  "language_info": {
   "codemirror_mode": {
    "name": "ipython",
    "version": 3
   },
   "file_extension": ".py",
   "mimetype": "text/x-python",
   "name": "python",
   "nbconvert_exporter": "python",
   "pygments_lexer": "ipython3",
   "version": "3.6.2"
  }
 },
 "nbformat": 4,
 "nbformat_minor": 4
}
